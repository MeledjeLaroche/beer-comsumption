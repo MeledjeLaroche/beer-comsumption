{
 "cells": [
  {
   "cell_type": "code",
   "execution_count": 260,
   "metadata": {},
   "outputs": [
    {
     "name": "stdout",
     "output_type": "stream",
     "text": [
      "The autoreload extension is already loaded. To reload it, use:\n",
      "  %reload_ext autoreload\n"
     ]
    }
   ],
   "source": [
    "%load_ext autoreload\n",
    "%autoreload 2"
   ]
  },
  {
   "cell_type": "code",
   "execution_count": 261,
   "metadata": {},
   "outputs": [],
   "source": [
    "# importation des librairies\n",
    "from pyspark.sql import SparkSession\n",
    "import pyspark.sql.functions as f"
   ]
  },
  {
   "cell_type": "code",
   "execution_count": 262,
   "metadata": {},
   "outputs": [],
   "source": [
    "# création de la session spark\n",
    "spark = SparkSession.builder.appName('beer_project').getOrCreate()\n",
    "\n",
    "# creation du spark_context\n",
    "sc = spark.sparkContext"
   ]
  },
  {
   "cell_type": "code",
   "execution_count": 263,
   "metadata": {},
   "outputs": [],
   "source": [
    "# importation des données\n",
    "df = spark.read.csv('../../beer_reviews.csv', header=True,inferSchema=True)"
   ]
  },
  {
   "cell_type": "code",
   "execution_count": 264,
   "metadata": {},
   "outputs": [
    {
     "data": {
      "text/plain": [
       "Row(brewery_id=10325, brewery_name='Vecchio Birraio', review_time=1234817823, review_overall=1.5, review_aroma=2.0, review_appearance=2.5, review_profilename='stcules', beer_style='Hefeweizen', review_palate=1.5, review_taste=1.5, beer_name='Sausa Weizen', beer_abv=5.0, beer_beerid=47986)"
      ]
     },
     "execution_count": 264,
     "metadata": {},
     "output_type": "execute_result"
    }
   ],
   "source": [
    "df.head()"
   ]
  },
  {
   "cell_type": "markdown",
   "metadata": {},
   "source": [
    "# QUESTIONS"
   ]
  },
  {
   "cell_type": "markdown",
   "metadata": {},
   "source": [
    "### 1. Which brewery produces the strongest beers by ABV%?"
   ]
  },
  {
   "cell_type": "code",
   "execution_count": 265,
   "metadata": {},
   "outputs": [
    {
     "name": "stdout",
     "output_type": "stream",
     "text": [
      "+------------+--------+\n",
      "|brewery_name|beer_abv|\n",
      "+------------+--------+\n",
      "|Schorschbräu|    57.7|\n",
      "+------------+--------+\n",
      "only showing top 1 row\n",
      "\n"
     ]
    }
   ],
   "source": [
    "df.select('brewery_name', 'beer_abv').sort(f.desc('beer_abv')).show(1)"
   ]
  },
  {
   "cell_type": "markdown",
   "metadata": {},
   "source": [
    "### 2. If you had to pick 3 beers to recommend using only this data, which would you pick ?"
   ]
  },
  {
   "cell_type": "code",
   "execution_count": 266,
   "metadata": {},
   "outputs": [
    {
     "data": {
      "text/plain": [
       "['brewery_id',\n",
       " 'brewery_name',\n",
       " 'review_time',\n",
       " 'review_overall',\n",
       " 'review_aroma',\n",
       " 'review_appearance',\n",
       " 'review_profilename',\n",
       " 'beer_style',\n",
       " 'review_palate',\n",
       " 'review_taste',\n",
       " 'beer_name',\n",
       " 'beer_abv',\n",
       " 'beer_beerid']"
      ]
     },
     "execution_count": 266,
     "metadata": {},
     "output_type": "execute_result"
    }
   ],
   "source": [
    "df.columns"
   ]
  },
  {
   "cell_type": "code",
   "execution_count": 267,
   "metadata": {},
   "outputs": [
    {
     "data": {
      "text/plain": [
       "Row(brewery_id=10325, brewery_name='Vecchio Birraio', review_time=1234817823, review_overall=1.5, review_aroma=2.0, review_appearance=2.5, review_profilename='stcules', beer_style='Hefeweizen', review_palate=1.5, review_taste=1.5, beer_name='Sausa Weizen', beer_abv=5.0, beer_beerid=47986, date=datetime.datetime(2009, 2, 16, 20, 57, 3), year=2009)"
      ]
     },
     "execution_count": 267,
     "metadata": {},
     "output_type": "execute_result"
    }
   ],
   "source": [
    "from preprocessing_spark import *\n",
    "df = convert_time(df)\n",
    "df.head()"
   ]
  },
  {
   "cell_type": "code",
   "execution_count": 268,
   "metadata": {},
   "outputs": [
    {
     "name": "stdout",
     "output_type": "stream",
     "text": [
      "root\n",
      " |-- brewery_id: integer (nullable = true)\n",
      " |-- brewery_name: string (nullable = true)\n",
      " |-- review_time: integer (nullable = true)\n",
      " |-- review_overall: double (nullable = true)\n",
      " |-- review_aroma: double (nullable = true)\n",
      " |-- review_appearance: double (nullable = true)\n",
      " |-- review_profilename: string (nullable = true)\n",
      " |-- beer_style: string (nullable = true)\n",
      " |-- review_palate: double (nullable = true)\n",
      " |-- review_taste: double (nullable = true)\n",
      " |-- beer_name: string (nullable = true)\n",
      " |-- beer_abv: double (nullable = true)\n",
      " |-- beer_beerid: integer (nullable = true)\n",
      " |-- date: timestamp (nullable = true)\n",
      " |-- year: integer (nullable = true)\n",
      "\n"
     ]
    }
   ],
   "source": [
    "df.printSchema()"
   ]
  },
  {
   "cell_type": "code",
   "execution_count": 269,
   "metadata": {},
   "outputs": [
    {
     "data": {
      "text/plain": [
       "Row(brewery_id=1075, brewery_name='Caldera Brewing Company', review_time=1325524659, review_overall=3.0, review_aroma=3.5, review_appearance=3.5, review_profilename='oline73', beer_style='Herbed / Spiced Beer', review_palate=3.0, review_taste=3.5, beer_name='Caldera Ginger Beer', beer_abv=4.7, beer_beerid=52159, date=datetime.datetime(2012, 1, 2, 17, 17, 39), year=2012)"
      ]
     },
     "execution_count": 269,
     "metadata": {},
     "output_type": "execute_result"
    }
   ],
   "source": [
    "df = date_after_year(df, 2011)\n",
    "df.head()"
   ]
  },
  {
   "cell_type": "code",
   "execution_count": 270,
   "metadata": {},
   "outputs": [
    {
     "name": "stdout",
     "output_type": "stream",
     "text": [
      "+--------------+------------+\n",
      "|review_overall|review_aroma|\n",
      "+--------------+------------+\n",
      "+--------------+------------+\n",
      "\n"
     ]
    }
   ],
   "source": [
    "df.select(\"review_overall\",\"review_aroma\").filter(f.col(\"beer_beerid\")==20631).show()"
   ]
  },
  {
   "cell_type": "code",
   "execution_count": 271,
   "metadata": {},
   "outputs": [
    {
     "data": {
      "text/plain": [
       "38"
      ]
     },
     "execution_count": 271,
     "metadata": {},
     "output_type": "execute_result"
    }
   ],
   "source": [
    "top_most_beer(df).count()"
   ]
  },
  {
   "cell_type": "code",
   "execution_count": null,
   "metadata": {},
   "outputs": [],
   "source": []
  },
  {
   "cell_type": "code",
   "execution_count": null,
   "metadata": {},
   "outputs": [],
   "source": []
  }
 ],
 "metadata": {
  "kernelspec": {
   "display_name": "Python 3 (ipykernel)",
   "language": "python",
   "name": "python3"
  },
  "language_info": {
   "codemirror_mode": {
    "name": "ipython",
    "version": 3
   },
   "file_extension": ".py",
   "mimetype": "text/x-python",
   "name": "python",
   "nbconvert_exporter": "python",
   "pygments_lexer": "ipython3",
   "version": "3.9.12"
  },
  "vscode": {
   "interpreter": {
    "hash": "7473ed803b1b416f48093b73458848e73ed5aebc736590e8f5a7a259d9c2dcc7"
   }
  }
 },
 "nbformat": 4,
 "nbformat_minor": 2
}
