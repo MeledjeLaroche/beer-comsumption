{
 "cells": [
  {
   "cell_type": "markdown",
   "metadata": {},
   "source": [
    "# Packages"
   ]
  },
  {
   "cell_type": "code",
   "execution_count": 1,
   "metadata": {},
   "outputs": [],
   "source": [
    "import pandas as pd\n",
    "import numpy as np\n",
    "import matplotlib.pyplot as plt\n",
    "import warnings\n",
    "warnings.simplefilter(\"ignore\")\n",
    "from domain.preprocessing import *"
   ]
  },
  {
   "cell_type": "markdown",
   "metadata": {},
   "source": [
    "# Données"
   ]
  },
  {
   "cell_type": "code",
   "execution_count": 2,
   "metadata": {},
   "outputs": [],
   "source": [
    "data = pd.read_csv(\"data/beer_reviews.csv\")\n",
    "beer_data = data.copy()"
   ]
  },
  {
   "cell_type": "markdown",
   "metadata": {},
   "source": [
    "# Analyses exploratoire"
   ]
  },
  {
   "cell_type": "markdown",
   "metadata": {},
   "source": [
    "* Vue globale"
   ]
  },
  {
   "cell_type": "code",
   "execution_count": 3,
   "metadata": {},
   "outputs": [],
   "source": [
    "#beer_data.head()"
   ]
  },
  {
   "cell_type": "code",
   "execution_count": 4,
   "metadata": {},
   "outputs": [],
   "source": [
    "#beer_data.shape"
   ]
  },
  {
   "cell_type": "markdown",
   "metadata": {},
   "source": [
    "* Infos sur les variables"
   ]
  },
  {
   "cell_type": "code",
   "execution_count": 5,
   "metadata": {},
   "outputs": [],
   "source": [
    "#beer_data.info()"
   ]
  },
  {
   "cell_type": "markdown",
   "metadata": {},
   "source": [
    "Il y a quatres variables qualitative et 9 quantitatives"
   ]
  },
  {
   "cell_type": "markdown",
   "metadata": {},
   "source": [
    "* Valeurs manquanntes"
   ]
  },
  {
   "cell_type": "code",
   "execution_count": 6,
   "metadata": {},
   "outputs": [],
   "source": [
    "#var_categories(data)"
   ]
  },
  {
   "cell_type": "code",
   "execution_count": 7,
   "metadata": {},
   "outputs": [],
   "source": [
    "#plot_missing_values(beer_data)\n",
    "#missing_values(beer_data)\n",
    "\n"
   ]
  },
  {
   "cell_type": "code",
   "execution_count": 8,
   "metadata": {},
   "outputs": [],
   "source": [
    "date_time_year(data,\"review_time\")\n",
    "global_mean_std(data)\n",
    "df = select_year_after(data,2011)"
   ]
  },
  {
   "cell_type": "code",
   "execution_count": 9,
   "metadata": {},
   "outputs": [
    {
     "data": {
      "text/plain": [
       "4367"
      ]
     },
     "execution_count": 9,
     "metadata": {},
     "output_type": "execute_result"
    }
   ],
   "source": [
    "df[\"beer_beerid\"].nunique()"
   ]
  },
  {
   "cell_type": "code",
   "execution_count": 10,
   "metadata": {},
   "outputs": [
    {
     "data": {
      "text/html": [
       "<div>\n",
       "<style scoped>\n",
       "    .dataframe tbody tr th:only-of-type {\n",
       "        vertical-align: middle;\n",
       "    }\n",
       "\n",
       "    .dataframe tbody tr th {\n",
       "        vertical-align: top;\n",
       "    }\n",
       "\n",
       "    .dataframe thead th {\n",
       "        text-align: right;\n",
       "    }\n",
       "</style>\n",
       "<table border=\"1\" class=\"dataframe\">\n",
       "  <thead>\n",
       "    <tr style=\"text-align: right;\">\n",
       "      <th></th>\n",
       "      <th>brewery_id</th>\n",
       "      <th>brewery_name</th>\n",
       "      <th>beer_beerid</th>\n",
       "      <th>beer_name</th>\n",
       "    </tr>\n",
       "  </thead>\n",
       "  <tbody>\n",
       "    <tr>\n",
       "      <th>5</th>\n",
       "      <td>1075</td>\n",
       "      <td>Caldera Brewing Company</td>\n",
       "      <td>52159</td>\n",
       "      <td>Caldera Ginger Beer</td>\n",
       "    </tr>\n",
       "    <tr>\n",
       "      <th>10</th>\n",
       "      <td>163</td>\n",
       "      <td>Amstel Brouwerij B. V.</td>\n",
       "      <td>436</td>\n",
       "      <td>Amstel Light</td>\n",
       "    </tr>\n",
       "    <tr>\n",
       "      <th>19</th>\n",
       "      <td>1075</td>\n",
       "      <td>Caldera Brewing Company</td>\n",
       "      <td>58046</td>\n",
       "      <td>Rauch Ür Bock</td>\n",
       "    </tr>\n",
       "    <tr>\n",
       "      <th>63</th>\n",
       "      <td>1075</td>\n",
       "      <td>Caldera Brewing Company</td>\n",
       "      <td>25414</td>\n",
       "      <td>Caldera Pale Ale</td>\n",
       "    </tr>\n",
       "    <tr>\n",
       "      <th>115</th>\n",
       "      <td>1075</td>\n",
       "      <td>Caldera Brewing Company</td>\n",
       "      <td>58920</td>\n",
       "      <td>Vas Deferens Ale</td>\n",
       "    </tr>\n",
       "    <tr>\n",
       "      <th>...</th>\n",
       "      <td>...</td>\n",
       "      <td>...</td>\n",
       "      <td>...</td>\n",
       "      <td>...</td>\n",
       "    </tr>\n",
       "    <tr>\n",
       "      <th>1585934</th>\n",
       "      <td>3835</td>\n",
       "      <td>Drake's Brewing Co.</td>\n",
       "      <td>67973</td>\n",
       "      <td>Drakonic Imperial Stout</td>\n",
       "    </tr>\n",
       "    <tr>\n",
       "      <th>1586108</th>\n",
       "      <td>16342</td>\n",
       "      <td>Coldstream Brewery</td>\n",
       "      <td>54729</td>\n",
       "      <td>Coldstream Naked Ale</td>\n",
       "    </tr>\n",
       "    <tr>\n",
       "      <th>1586115</th>\n",
       "      <td>16342</td>\n",
       "      <td>Coldstream Brewery</td>\n",
       "      <td>77109</td>\n",
       "      <td>Coldstream Spring Lager</td>\n",
       "    </tr>\n",
       "    <tr>\n",
       "      <th>1586164</th>\n",
       "      <td>6021</td>\n",
       "      <td>Ludwig Ehrnsperger Gansbrauerei</td>\n",
       "      <td>77092</td>\n",
       "      <td>Rot Bier</td>\n",
       "    </tr>\n",
       "    <tr>\n",
       "      <th>1586475</th>\n",
       "      <td>14359</td>\n",
       "      <td>The Defiant Brewing Company</td>\n",
       "      <td>33067</td>\n",
       "      <td>Christmas Ale</td>\n",
       "    </tr>\n",
       "  </tbody>\n",
       "</table>\n",
       "<p>4367 rows × 4 columns</p>\n",
       "</div>"
      ],
      "text/plain": [
       "         brewery_id                     brewery_name  beer_beerid  \\\n",
       "5              1075          Caldera Brewing Company        52159   \n",
       "10              163           Amstel Brouwerij B. V.          436   \n",
       "19             1075          Caldera Brewing Company        58046   \n",
       "63             1075          Caldera Brewing Company        25414   \n",
       "115            1075          Caldera Brewing Company        58920   \n",
       "...             ...                              ...          ...   \n",
       "1585934        3835              Drake's Brewing Co.        67973   \n",
       "1586108       16342               Coldstream Brewery        54729   \n",
       "1586115       16342               Coldstream Brewery        77109   \n",
       "1586164        6021  Ludwig Ehrnsperger Gansbrauerei        77092   \n",
       "1586475       14359      The Defiant Brewing Company        33067   \n",
       "\n",
       "                       beer_name  \n",
       "5            Caldera Ginger Beer  \n",
       "10                  Amstel Light  \n",
       "19                 Rauch Ür Bock  \n",
       "63              Caldera Pale Ale  \n",
       "115             Vas Deferens Ale  \n",
       "...                          ...  \n",
       "1585934  Drakonic Imperial Stout  \n",
       "1586108     Coldstream Naked Ale  \n",
       "1586115  Coldstream Spring Lager  \n",
       "1586164                 Rot Bier  \n",
       "1586475            Christmas Ale  \n",
       "\n",
       "[4367 rows x 4 columns]"
      ]
     },
     "execution_count": 10,
     "metadata": {},
     "output_type": "execute_result"
    }
   ],
   "source": [
    "tmp,df1 = top_beers(df,0)\n",
    "df1\n"
   ]
  },
  {
   "cell_type": "code",
   "execution_count": 11,
   "metadata": {},
   "outputs": [
    {
     "data": {
      "text/html": [
       "<div>\n",
       "<style scoped>\n",
       "    .dataframe tbody tr th:only-of-type {\n",
       "        vertical-align: middle;\n",
       "    }\n",
       "\n",
       "    .dataframe tbody tr th {\n",
       "        vertical-align: top;\n",
       "    }\n",
       "\n",
       "    .dataframe thead th {\n",
       "        text-align: right;\n",
       "    }\n",
       "</style>\n",
       "<table border=\"1\" class=\"dataframe\">\n",
       "  <thead>\n",
       "    <tr style=\"text-align: right;\">\n",
       "      <th></th>\n",
       "      <th>brewery_id</th>\n",
       "      <th>brewery_name</th>\n",
       "      <th>beer_beerid</th>\n",
       "      <th>beer_name</th>\n",
       "    </tr>\n",
       "  </thead>\n",
       "  <tbody>\n",
       "    <tr>\n",
       "      <th>2261</th>\n",
       "      <td>1199</td>\n",
       "      <td>Founders Brewing Company</td>\n",
       "      <td>16074</td>\n",
       "      <td>Founders Red's Rye PA</td>\n",
       "    </tr>\n",
       "    <tr>\n",
       "      <th>4913</th>\n",
       "      <td>1199</td>\n",
       "      <td>Founders Brewing Company</td>\n",
       "      <td>11757</td>\n",
       "      <td>Founders Breakfast Stout</td>\n",
       "    </tr>\n",
       "    <tr>\n",
       "      <th>5395</th>\n",
       "      <td>1199</td>\n",
       "      <td>Founders Brewing Company</td>\n",
       "      <td>34146</td>\n",
       "      <td>Founders Double Trouble</td>\n",
       "    </tr>\n",
       "    <tr>\n",
       "      <th>12663</th>\n",
       "      <td>1199</td>\n",
       "      <td>Founders Brewing Company</td>\n",
       "      <td>5441</td>\n",
       "      <td>Founders Centennial IPA</td>\n",
       "    </tr>\n",
       "    <tr>\n",
       "      <th>16216</th>\n",
       "      <td>1199</td>\n",
       "      <td>Founders Brewing Company</td>\n",
       "      <td>17538</td>\n",
       "      <td>Founders Devil Dancer</td>\n",
       "    </tr>\n",
       "    <tr>\n",
       "      <th>...</th>\n",
       "      <td>...</td>\n",
       "      <td>...</td>\n",
       "      <td>...</td>\n",
       "      <td>...</td>\n",
       "    </tr>\n",
       "    <tr>\n",
       "      <th>1522040</th>\n",
       "      <td>345</td>\n",
       "      <td>Victory Brewing Company</td>\n",
       "      <td>1010</td>\n",
       "      <td>Prima Pils</td>\n",
       "    </tr>\n",
       "    <tr>\n",
       "      <th>1527952</th>\n",
       "      <td>345</td>\n",
       "      <td>Victory Brewing Company</td>\n",
       "      <td>1013</td>\n",
       "      <td>Storm King Stout</td>\n",
       "    </tr>\n",
       "    <tr>\n",
       "      <th>1528894</th>\n",
       "      <td>345</td>\n",
       "      <td>Victory Brewing Company</td>\n",
       "      <td>14916</td>\n",
       "      <td>Hop Wallop</td>\n",
       "    </tr>\n",
       "    <tr>\n",
       "      <th>1557973</th>\n",
       "      <td>345</td>\n",
       "      <td>Victory Brewing Company</td>\n",
       "      <td>1009</td>\n",
       "      <td>Old Horizontal</td>\n",
       "    </tr>\n",
       "    <tr>\n",
       "      <th>1558824</th>\n",
       "      <td>342</td>\n",
       "      <td>The Caledonian Brewery Company Limited</td>\n",
       "      <td>639</td>\n",
       "      <td>Newcastle Brown Ale</td>\n",
       "    </tr>\n",
       "  </tbody>\n",
       "</table>\n",
       "<p>193 rows × 4 columns</p>\n",
       "</div>"
      ],
      "text/plain": [
       "         brewery_id                            brewery_name  beer_beerid  \\\n",
       "2261           1199                Founders Brewing Company        16074   \n",
       "4913           1199                Founders Brewing Company        11757   \n",
       "5395           1199                Founders Brewing Company        34146   \n",
       "12663          1199                Founders Brewing Company         5441   \n",
       "16216          1199                Founders Brewing Company        17538   \n",
       "...             ...                                     ...          ...   \n",
       "1522040         345                 Victory Brewing Company         1010   \n",
       "1527952         345                 Victory Brewing Company         1013   \n",
       "1528894         345                 Victory Brewing Company        14916   \n",
       "1557973         345                 Victory Brewing Company         1009   \n",
       "1558824         342  The Caledonian Brewery Company Limited          639   \n",
       "\n",
       "                        beer_name  \n",
       "2261        Founders Red's Rye PA  \n",
       "4913     Founders Breakfast Stout  \n",
       "5395      Founders Double Trouble  \n",
       "12663     Founders Centennial IPA  \n",
       "16216       Founders Devil Dancer  \n",
       "...                           ...  \n",
       "1522040                Prima Pils  \n",
       "1527952          Storm King Stout  \n",
       "1528894                Hop Wallop  \n",
       "1557973            Old Horizontal  \n",
       "1558824       Newcastle Brown Ale  \n",
       "\n",
       "[193 rows x 4 columns]"
      ]
     },
     "execution_count": 11,
     "metadata": {},
     "output_type": "execute_result"
    }
   ],
   "source": [
    "tmp,df1 = top_beers(df,1000)\n",
    "df1"
   ]
  },
  {
   "cell_type": "code",
   "execution_count": 12,
   "metadata": {},
   "outputs": [
    {
     "data": {
      "text/html": [
       "<div>\n",
       "<style scoped>\n",
       "    .dataframe tbody tr th:only-of-type {\n",
       "        vertical-align: middle;\n",
       "    }\n",
       "\n",
       "    .dataframe tbody tr th {\n",
       "        vertical-align: top;\n",
       "    }\n",
       "\n",
       "    .dataframe thead th {\n",
       "        text-align: right;\n",
       "    }\n",
       "</style>\n",
       "<table border=\"1\" class=\"dataframe\">\n",
       "  <thead>\n",
       "    <tr style=\"text-align: right;\">\n",
       "      <th></th>\n",
       "      <th>brewery_id</th>\n",
       "      <th>brewery_name</th>\n",
       "      <th>beer_beerid</th>\n",
       "      <th>beer_name</th>\n",
       "    </tr>\n",
       "  </thead>\n",
       "  <tbody>\n",
       "    <tr>\n",
       "      <th>1166284</th>\n",
       "      <td>10099</td>\n",
       "      <td>Dogfish Head Brewery</td>\n",
       "      <td>2093</td>\n",
       "      <td>90 Minute IPA</td>\n",
       "    </tr>\n",
       "    <tr>\n",
       "      <th>1242846</th>\n",
       "      <td>112</td>\n",
       "      <td>North Coast Brewing Co.</td>\n",
       "      <td>412</td>\n",
       "      <td>Old Rasputin Russian Imperial Stout</td>\n",
       "    </tr>\n",
       "  </tbody>\n",
       "</table>\n",
       "</div>"
      ],
      "text/plain": [
       "         brewery_id             brewery_name  beer_beerid  \\\n",
       "1166284       10099     Dogfish Head Brewery         2093   \n",
       "1242846         112  North Coast Brewing Co.          412   \n",
       "\n",
       "                                   beer_name  \n",
       "1166284                        90 Minute IPA  \n",
       "1242846  Old Rasputin Russian Imperial Stout  "
      ]
     },
     "execution_count": 12,
     "metadata": {},
     "output_type": "execute_result"
    }
   ],
   "source": [
    "tmp,df1 = top_beers(df,3000)\n",
    "df1\n"
   ]
  },
  {
   "cell_type": "code",
   "execution_count": 13,
   "metadata": {},
   "outputs": [
    {
     "data": {
      "text/plain": [
       "[2093, 412]"
      ]
     },
     "execution_count": 13,
     "metadata": {},
     "output_type": "execute_result"
    }
   ],
   "source": [
    "liste_beer_id = list(df1[\"beer_beerid\"].drop_duplicates())\n",
    "liste_beer_id"
   ]
  },
  {
   "cell_type": "code",
   "execution_count": 14,
   "metadata": {},
   "outputs": [
    {
     "ename": "KeyError",
     "evalue": "\"Column(s) ['review_mean', 'review_overall', 'review_std', 'review_taste'] do not exist\"",
     "output_type": "error",
     "traceback": [
      "\u001b[0;31m---------------------------------------------------------------------------\u001b[0m",
      "\u001b[0;31mKeyError\u001b[0m                                  Traceback (most recent call last)",
      "Cell \u001b[0;32mIn[14], line 1\u001b[0m\n\u001b[0;32m----> 1\u001b[0m df2 \u001b[39m=\u001b[39m top_beers_brewery(df1,\u001b[39m\"\u001b[39;49m\u001b[39mreview_mean\u001b[39;49m\u001b[39m\"\u001b[39;49m,\u001b[39m\"\u001b[39;49m\u001b[39mreview_std\u001b[39;49m\u001b[39m\"\u001b[39;49m)\n\u001b[1;32m      2\u001b[0m df2\n",
      "File \u001b[0;32m/media/sayouba/DONNEES/IDSI-COURS/Master2/Spark/TP/beer-consumption/beer_consumption/domain/preprocessing.py:110\u001b[0m, in \u001b[0;36mtop_beers_brewery\u001b[0;34m(df, aspect1, aspect2)\u001b[0m\n\u001b[1;32m    108\u001b[0m \u001b[39mdef\u001b[39;00m \u001b[39mtop_beers_brewery\u001b[39m(df,aspect1, aspect2):\n\u001b[1;32m    109\u001b[0m     df \u001b[39m=\u001b[39m df\u001b[39m.\u001b[39;49mgroupby([\u001b[39m'\u001b[39;49m\u001b[39mbrewery_name\u001b[39;49m\u001b[39m'\u001b[39;49m,\u001b[39m'\u001b[39;49m\u001b[39mbeer_name\u001b[39;49m\u001b[39m'\u001b[39;49m])\\\n\u001b[0;32m--> 110\u001b[0m             \u001b[39m.\u001b[39;49maggregate({\u001b[39m'\u001b[39;49m\u001b[39mreview_overall\u001b[39;49m\u001b[39m'\u001b[39;49m: \u001b[39m'\u001b[39;49m\u001b[39mmean\u001b[39;49m\u001b[39m'\u001b[39;49m,\n\u001b[1;32m    111\u001b[0m                         aspect1: \u001b[39m'\u001b[39;49m\u001b[39mmean\u001b[39;49m\u001b[39m'\u001b[39;49m, \n\u001b[1;32m    112\u001b[0m                         aspect2: \u001b[39m'\u001b[39;49m\u001b[39mmean\u001b[39;49m\u001b[39m'\u001b[39;49m,\n\u001b[1;32m    113\u001b[0m                         \u001b[39m'\u001b[39;49m\u001b[39mreview_taste\u001b[39;49m\u001b[39m'\u001b[39;49m:\u001b[39m'\u001b[39;49m\u001b[39mmean\u001b[39;49m\u001b[39m'\u001b[39;49m})\\\n\u001b[1;32m    114\u001b[0m                         \u001b[39m.\u001b[39msort_values(by\u001b[39m=\u001b[39m\u001b[39m'\u001b[39m\u001b[39mreview_taste\u001b[39m\u001b[39m'\u001b[39m,\n\u001b[1;32m    115\u001b[0m                                     ascending\u001b[39m=\u001b[39m\u001b[39mFalse\u001b[39;00m)\\\n\u001b[1;32m    116\u001b[0m                         \u001b[39m.\u001b[39mreset_index()\n\u001b[1;32m    117\u001b[0m     \u001b[39mreturn\u001b[39;00m df\n",
      "File \u001b[0;32m~/.local/lib/python3.10/site-packages/pandas/core/groupby/generic.py:894\u001b[0m, in \u001b[0;36mDataFrameGroupBy.aggregate\u001b[0;34m(self, func, engine, engine_kwargs, *args, **kwargs)\u001b[0m\n\u001b[1;32m    891\u001b[0m func \u001b[39m=\u001b[39m maybe_mangle_lambdas(func)\n\u001b[1;32m    893\u001b[0m op \u001b[39m=\u001b[39m GroupByApply(\u001b[39mself\u001b[39m, func, args, kwargs)\n\u001b[0;32m--> 894\u001b[0m result \u001b[39m=\u001b[39m op\u001b[39m.\u001b[39;49magg()\n\u001b[1;32m    895\u001b[0m \u001b[39mif\u001b[39;00m \u001b[39mnot\u001b[39;00m is_dict_like(func) \u001b[39mand\u001b[39;00m result \u001b[39mis\u001b[39;00m \u001b[39mnot\u001b[39;00m \u001b[39mNone\u001b[39;00m:\n\u001b[1;32m    896\u001b[0m     \u001b[39mreturn\u001b[39;00m result\n",
      "File \u001b[0;32m~/.local/lib/python3.10/site-packages/pandas/core/apply.py:169\u001b[0m, in \u001b[0;36mApply.agg\u001b[0;34m(self)\u001b[0m\n\u001b[1;32m    166\u001b[0m     \u001b[39mreturn\u001b[39;00m \u001b[39mself\u001b[39m\u001b[39m.\u001b[39mapply_str()\n\u001b[1;32m    168\u001b[0m \u001b[39mif\u001b[39;00m is_dict_like(arg):\n\u001b[0;32m--> 169\u001b[0m     \u001b[39mreturn\u001b[39;00m \u001b[39mself\u001b[39;49m\u001b[39m.\u001b[39;49magg_dict_like()\n\u001b[1;32m    170\u001b[0m \u001b[39melif\u001b[39;00m is_list_like(arg):\n\u001b[1;32m    171\u001b[0m     \u001b[39m# we require a list, but not a 'str'\u001b[39;00m\n\u001b[1;32m    172\u001b[0m     \u001b[39mreturn\u001b[39;00m \u001b[39mself\u001b[39m\u001b[39m.\u001b[39magg_list_like()\n",
      "File \u001b[0;32m~/.local/lib/python3.10/site-packages/pandas/core/apply.py:478\u001b[0m, in \u001b[0;36mApply.agg_dict_like\u001b[0;34m(self)\u001b[0m\n\u001b[1;32m    475\u001b[0m     selected_obj \u001b[39m=\u001b[39m obj\u001b[39m.\u001b[39m_selected_obj\n\u001b[1;32m    476\u001b[0m     selection \u001b[39m=\u001b[39m obj\u001b[39m.\u001b[39m_selection\n\u001b[0;32m--> 478\u001b[0m arg \u001b[39m=\u001b[39m \u001b[39mself\u001b[39;49m\u001b[39m.\u001b[39;49mnormalize_dictlike_arg(\u001b[39m\"\u001b[39;49m\u001b[39magg\u001b[39;49m\u001b[39m\"\u001b[39;49m, selected_obj, arg)\n\u001b[1;32m    480\u001b[0m \u001b[39mif\u001b[39;00m selected_obj\u001b[39m.\u001b[39mndim \u001b[39m==\u001b[39m \u001b[39m1\u001b[39m:\n\u001b[1;32m    481\u001b[0m     \u001b[39m# key only used for output\u001b[39;00m\n\u001b[1;32m    482\u001b[0m     colg \u001b[39m=\u001b[39m obj\u001b[39m.\u001b[39m_gotitem(selection, ndim\u001b[39m=\u001b[39m\u001b[39m1\u001b[39m)\n",
      "File \u001b[0;32m~/.local/lib/python3.10/site-packages/pandas/core/apply.py:601\u001b[0m, in \u001b[0;36mApply.normalize_dictlike_arg\u001b[0;34m(self, how, obj, func)\u001b[0m\n\u001b[1;32m    599\u001b[0m     \u001b[39mif\u001b[39;00m \u001b[39mlen\u001b[39m(cols) \u001b[39m>\u001b[39m \u001b[39m0\u001b[39m:\n\u001b[1;32m    600\u001b[0m         cols_sorted \u001b[39m=\u001b[39m \u001b[39mlist\u001b[39m(safe_sort(\u001b[39mlist\u001b[39m(cols)))\n\u001b[0;32m--> 601\u001b[0m         \u001b[39mraise\u001b[39;00m \u001b[39mKeyError\u001b[39;00m(\u001b[39mf\u001b[39m\u001b[39m\"\u001b[39m\u001b[39mColumn(s) \u001b[39m\u001b[39m{\u001b[39;00mcols_sorted\u001b[39m}\u001b[39;00m\u001b[39m do not exist\u001b[39m\u001b[39m\"\u001b[39m)\n\u001b[1;32m    603\u001b[0m aggregator_types \u001b[39m=\u001b[39m (\u001b[39mlist\u001b[39m, \u001b[39mtuple\u001b[39m, \u001b[39mdict\u001b[39m)\n\u001b[1;32m    605\u001b[0m \u001b[39m# if we have a dict of any non-scalars\u001b[39;00m\n\u001b[1;32m    606\u001b[0m \u001b[39m# eg. {'A' : ['mean']}, normalize all to\u001b[39;00m\n\u001b[1;32m    607\u001b[0m \u001b[39m# be list-likes\u001b[39;00m\n\u001b[1;32m    608\u001b[0m \u001b[39m# Cannot use func.values() because arg may be a Series\u001b[39;00m\n",
      "\u001b[0;31mKeyError\u001b[0m: \"Column(s) ['review_mean', 'review_overall', 'review_std', 'review_taste'] do not exist\""
     ]
    }
   ],
   "source": [
    "df2 = top_beers_brewery(df1,\"review_mean\",\"review_std\")\n",
    "df2"
   ]
  },
  {
   "cell_type": "code",
   "execution_count": null,
   "metadata": {},
   "outputs": [],
   "source": [
    "df3 = top_beers_2(df)"
   ]
  },
  {
   "cell_type": "code",
   "execution_count": null,
   "metadata": {},
   "outputs": [
    {
     "data": {
      "text/html": [
       "<div>\n",
       "<style scoped>\n",
       "    .dataframe tbody tr th:only-of-type {\n",
       "        vertical-align: middle;\n",
       "    }\n",
       "\n",
       "    .dataframe tbody tr th {\n",
       "        vertical-align: top;\n",
       "    }\n",
       "\n",
       "    .dataframe thead th {\n",
       "        text-align: right;\n",
       "    }\n",
       "</style>\n",
       "<table border=\"1\" class=\"dataframe\">\n",
       "  <thead>\n",
       "    <tr style=\"text-align: right;\">\n",
       "      <th></th>\n",
       "      <th>brewery_name</th>\n",
       "      <th>beer_name</th>\n",
       "      <th>review_overall</th>\n",
       "      <th>review_mean</th>\n",
       "      <th>review_std</th>\n",
       "      <th>review_taste</th>\n",
       "    </tr>\n",
       "  </thead>\n",
       "  <tbody>\n",
       "    <tr>\n",
       "      <th>0</th>\n",
       "      <td>Bavaria-St. Pauli-Brauerei GmbH</td>\n",
       "      <td>Extracto De Malta</td>\n",
       "      <td>5.0</td>\n",
       "      <td>4.500</td>\n",
       "      <td>0.577350</td>\n",
       "      <td>5.0</td>\n",
       "    </tr>\n",
       "    <tr>\n",
       "      <th>1</th>\n",
       "      <td>Throwback Brewery</td>\n",
       "      <td>Throwback Hopstruck IPA</td>\n",
       "      <td>5.0</td>\n",
       "      <td>4.375</td>\n",
       "      <td>0.478714</td>\n",
       "      <td>5.0</td>\n",
       "    </tr>\n",
       "    <tr>\n",
       "      <th>2</th>\n",
       "      <td>Kona Brewing Co.</td>\n",
       "      <td>Mauka Makai</td>\n",
       "      <td>5.0</td>\n",
       "      <td>4.125</td>\n",
       "      <td>0.750000</td>\n",
       "      <td>4.5</td>\n",
       "    </tr>\n",
       "    <tr>\n",
       "      <th>3</th>\n",
       "      <td>The Bier Brewery</td>\n",
       "      <td>Fuggit Stout</td>\n",
       "      <td>5.0</td>\n",
       "      <td>4.625</td>\n",
       "      <td>0.250000</td>\n",
       "      <td>4.5</td>\n",
       "    </tr>\n",
       "    <tr>\n",
       "      <th>4</th>\n",
       "      <td>Denali Brewing Company / Twister Creek Restaurant</td>\n",
       "      <td>Matt Porter</td>\n",
       "      <td>5.0</td>\n",
       "      <td>4.125</td>\n",
       "      <td>0.250000</td>\n",
       "      <td>4.0</td>\n",
       "    </tr>\n",
       "  </tbody>\n",
       "</table>\n",
       "</div>"
      ],
      "text/plain": [
       "                                        brewery_name                beer_name  \\\n",
       "0                    Bavaria-St. Pauli-Brauerei GmbH        Extracto De Malta   \n",
       "1                                  Throwback Brewery  Throwback Hopstruck IPA   \n",
       "2                                   Kona Brewing Co.              Mauka Makai   \n",
       "3                                   The Bier Brewery             Fuggit Stout   \n",
       "4  Denali Brewing Company / Twister Creek Restaurant              Matt Porter   \n",
       "\n",
       "   review_overall  review_mean  review_std  review_taste  \n",
       "0             5.0        4.500    0.577350           5.0  \n",
       "1             5.0        4.375    0.478714           5.0  \n",
       "2             5.0        4.125    0.750000           4.5  \n",
       "3             5.0        4.625    0.250000           4.5  \n",
       "4             5.0        4.125    0.250000           4.0  "
      ]
     },
     "execution_count": 19,
     "metadata": {},
     "output_type": "execute_result"
    }
   ],
   "source": [
    "df4 = top_beers_brewery(df3,\"review_mean\",\"review_std\")\n",
    "df4"
   ]
  },
  {
   "cell_type": "code",
   "execution_count": null,
   "metadata": {},
   "outputs": [
    {
     "data": {
      "text/plain": [
       "(66055, 2)"
      ]
     },
     "execution_count": 16,
     "metadata": {},
     "output_type": "execute_result"
    }
   ],
   "source": [
    "data[[\"brewery_id\",\"beer_name\"]].drop_duplicates().shape"
   ]
  },
  {
   "cell_type": "code",
   "execution_count": null,
   "metadata": {},
   "outputs": [
    {
     "data": {
      "text/plain": [
       "(66055,)"
      ]
     },
     "execution_count": 15,
     "metadata": {},
     "output_type": "execute_result"
    }
   ],
   "source": [
    "data[\"beer_beerid\"].drop_duplicates().shape"
   ]
  },
  {
   "cell_type": "code",
   "execution_count": null,
   "metadata": {},
   "outputs": [
    {
     "data": {
      "text/plain": [
       "(56857,)"
      ]
     },
     "execution_count": 17,
     "metadata": {},
     "output_type": "execute_result"
    }
   ],
   "source": [
    "data[\"beer_name\"].drop_duplicates().shape\n"
   ]
  },
  {
   "cell_type": "markdown",
   "metadata": {},
   "source": [
    "La biere est associé à une brasserie.\n",
    "Le couple brewery_id et beer_name est unique"
   ]
  },
  {
   "cell_type": "markdown",
   "metadata": {},
   "source": [
    "* Nombre de fois qu'une est noté"
   ]
  },
  {
   "cell_type": "code",
   "execution_count": null,
   "metadata": {},
   "outputs": [
    {
     "data": {
      "text/plain": [
       "3290"
      ]
     },
     "execution_count": 17,
     "metadata": {},
     "output_type": "execute_result"
    }
   ],
   "source": [
    "beer_id_df = data.groupby(by=\"beer_beerid\").agg(Count=(\"beer_beerid\",\"count\"))\n",
    "beer_id_df = beer_id_df.reset_index()\n",
    "#beer_id_df[beer_id_df[\"beer_beerid\"].isin(liste_beer_id)]\n",
    "beer_id_df[\"Count\"].max()"
   ]
  }
 ],
 "metadata": {
  "kernelspec": {
   "display_name": "Python 3 (ipykernel)",
   "language": "python",
   "name": "python3"
  },
  "language_info": {
   "codemirror_mode": {
    "name": "ipython",
    "version": 3
   },
   "file_extension": ".py",
   "mimetype": "text/x-python",
   "name": "python",
   "nbconvert_exporter": "python",
   "pygments_lexer": "ipython3",
   "version": "3.9.12"
  },
  "vscode": {
   "interpreter": {
    "hash": "916dbcbb3f70747c44a77c7bcd40155683ae19c65e1c03b4aa3499c5328201f1"
   }
  }
 },
 "nbformat": 4,
 "nbformat_minor": 2
}
